{
 "cells": [
  {
   "cell_type": "code",
   "execution_count": 2,
   "id": "2dfbaf1f",
   "metadata": {},
   "outputs": [
    {
     "name": "stdout",
     "output_type": "stream",
     "text": [
      "(720, 472)\n"
     ]
    }
   ],
   "source": [
    "from PIL import Image\n",
    "img = Image.open(\"C:/Medical Classification Model/sdc/train/Acne and Rosacea Photos/07Acne081101.jpg\")\n",
    "print(img.size)"
   ]
  },
  {
   "cell_type": "code",
   "execution_count": 3,
   "id": "7adde02b",
   "metadata": {},
   "outputs": [
    {
     "name": "stdout",
     "output_type": "stream",
     "text": [
      "(720, 472)\n"
     ]
    },
    {
     "name": "stderr",
     "output_type": "stream",
     "text": [
      "<>:2: SyntaxWarning: invalid escape sequence '\\M'\n",
      "<>:2: SyntaxWarning: invalid escape sequence '\\M'\n",
      "C:\\Users\\Ideapad 3 ci7 11gen\\AppData\\Local\\Temp\\ipykernel_1888\\807677672.py:2: SyntaxWarning: invalid escape sequence '\\M'\n",
      "  img = Image.open(\"C:/Medical Classification Model/sdc/train\\Melanoma Skin Cancer Nevi and Moles/atypical-nevi-8.jpg\")\n"
     ]
    }
   ],
   "source": [
    "from PIL import Image\n",
    "img = Image.open(\"C:/Medical Classification Model/sdc/train\\Melanoma Skin Cancer Nevi and Moles/atypical-nevi-8.jpg\")\n",
    "print(img.size)\n"
   ]
  }
 ],
 "metadata": {
  "kernelspec": {
   "display_name": "python3.12",
   "language": "python",
   "name": "python3"
  },
  "language_info": {
   "codemirror_mode": {
    "name": "ipython",
    "version": 3
   },
   "file_extension": ".py",
   "mimetype": "text/x-python",
   "name": "python",
   "nbconvert_exporter": "python",
   "pygments_lexer": "ipython3",
   "version": "3.12.0"
  }
 },
 "nbformat": 4,
 "nbformat_minor": 5
}
